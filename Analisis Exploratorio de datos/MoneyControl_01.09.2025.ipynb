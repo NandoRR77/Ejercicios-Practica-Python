{
 "cells": [
  {
   "cell_type": "markdown",
   "id": "8e0eaf73",
   "metadata": {},
   "source": [
    "Importar librerias"
   ]
  },
  {
   "cell_type": "code",
   "execution_count": 43,
   "id": "d3e9feaa",
   "metadata": {},
   "outputs": [],
   "source": [
    "import pandas as pd"
   ]
  },
  {
   "cell_type": "markdown",
   "id": "1fda6c5a",
   "metadata": {},
   "source": [
    "Abrir archivo csv"
   ]
  },
  {
   "cell_type": "code",
   "execution_count": 44,
   "id": "13cbefa0",
   "metadata": {},
   "outputs": [],
   "source": [
    "data = pd.read_csv('/Users/nandoramirez/Downloads/MoneyControl_2025-08-29_Trabajado.csv')"
   ]
  },
  {
   "cell_type": "markdown",
   "id": "f6aa2523",
   "metadata": {},
   "source": [
    "Inspección inicial data"
   ]
  },
  {
   "cell_type": "code",
   "execution_count": 45,
   "id": "189055d5",
   "metadata": {},
   "outputs": [
    {
     "data": {
      "text/html": [
       "<div>\n",
       "<style scoped>\n",
       "    .dataframe tbody tr th:only-of-type {\n",
       "        vertical-align: middle;\n",
       "    }\n",
       "\n",
       "    .dataframe tbody tr th {\n",
       "        vertical-align: top;\n",
       "    }\n",
       "\n",
       "    .dataframe thead th {\n",
       "        text-align: right;\n",
       "    }\n",
       "</style>\n",
       "<table border=\"1\" class=\"dataframe\">\n",
       "  <thead>\n",
       "    <tr style=\"text-align: right;\">\n",
       "      <th></th>\n",
       "      <th>FECHA</th>\n",
       "      <th>TIPO</th>\n",
       "      <th>CANTIDAD</th>\n",
       "      <th>CATEGORÍA</th>\n",
       "      <th>CUENTA</th>\n",
       "      <th>NOTA</th>\n",
       "      <th>CANTIDAD_2</th>\n",
       "    </tr>\n",
       "  </thead>\n",
       "  <tbody>\n",
       "    <tr>\n",
       "      <th>0</th>\n",
       "      <td>31/07/18</td>\n",
       "      <td>Transferencia</td>\n",
       "      <td>1.095.997,00</td>\n",
       "      <td>NaN</td>\n",
       "      <td>Ingreso de efectivo</td>\n",
       "      <td>Pago doble Citibank</td>\n",
       "      <td>1.095.997,00</td>\n",
       "    </tr>\n",
       "    <tr>\n",
       "      <th>1</th>\n",
       "      <td>1/08/18</td>\n",
       "      <td>Gastos</td>\n",
       "      <td>-15.000,00</td>\n",
       "      <td>Uber</td>\n",
       "      <td>Efectivo</td>\n",
       "      <td>EBAG</td>\n",
       "      <td>15.000,00</td>\n",
       "    </tr>\n",
       "    <tr>\n",
       "      <th>2</th>\n",
       "      <td>1/08/18</td>\n",
       "      <td>Gastos</td>\n",
       "      <td>-10.000,00</td>\n",
       "      <td>Celular</td>\n",
       "      <td>Efectivo</td>\n",
       "      <td>Recarga Nando</td>\n",
       "      <td>10.000,00</td>\n",
       "    </tr>\n",
       "    <tr>\n",
       "      <th>3</th>\n",
       "      <td>1/08/18</td>\n",
       "      <td>Gastos</td>\n",
       "      <td>-211.000,00</td>\n",
       "      <td>Compra Saldo Conexión +</td>\n",
       "      <td>Efectivo</td>\n",
       "      <td>NaN</td>\n",
       "      <td>211.000,00</td>\n",
       "    </tr>\n",
       "    <tr>\n",
       "      <th>4</th>\n",
       "      <td>1/08/18</td>\n",
       "      <td>Ingresos</td>\n",
       "      <td>20.006,09</td>\n",
       "      <td>Venta Recargas</td>\n",
       "      <td>Cuenta bancaria</td>\n",
       "      <td>Recarga Juan Laneros</td>\n",
       "      <td>20.006,09</td>\n",
       "    </tr>\n",
       "  </tbody>\n",
       "</table>\n",
       "</div>"
      ],
      "text/plain": [
       "      FECHA           TIPO      CANTIDAD                CATEGORÍA  \\\n",
       "0  31/07/18  Transferencia  1.095.997,00                      NaN   \n",
       "1   1/08/18         Gastos    -15.000,00                     Uber   \n",
       "2   1/08/18         Gastos    -10.000,00                  Celular   \n",
       "3   1/08/18         Gastos   -211.000,00  Compra Saldo Conexión +   \n",
       "4   1/08/18       Ingresos     20.006,09           Venta Recargas   \n",
       "\n",
       "                CUENTA                  NOTA    CANTIDAD_2  \n",
       "0  Ingreso de efectivo   Pago doble Citibank  1.095.997,00  \n",
       "1             Efectivo                  EBAG     15.000,00  \n",
       "2             Efectivo         Recarga Nando     10.000,00  \n",
       "3             Efectivo                   NaN    211.000,00  \n",
       "4      Cuenta bancaria  Recarga Juan Laneros     20.006,09  "
      ]
     },
     "execution_count": 45,
     "metadata": {},
     "output_type": "execute_result"
    }
   ],
   "source": [
    "data.head()"
   ]
  },
  {
   "cell_type": "markdown",
   "id": "0beefce6",
   "metadata": {},
   "source": [
    "Ver tipo de variables del dataframte"
   ]
  },
  {
   "cell_type": "code",
   "execution_count": 46,
   "id": "ecfd1ef3",
   "metadata": {},
   "outputs": [
    {
     "name": "stdout",
     "output_type": "stream",
     "text": [
      "<class 'pandas.core.frame.DataFrame'>\n",
      "RangeIndex: 12131 entries, 0 to 12130\n",
      "Data columns (total 7 columns):\n",
      " #   Column      Non-Null Count  Dtype \n",
      "---  ------      --------------  ----- \n",
      " 0   FECHA       12131 non-null  object\n",
      " 1   TIPO        12131 non-null  object\n",
      " 2   CANTIDAD    12131 non-null  object\n",
      " 3   CATEGORÍA   10413 non-null  object\n",
      " 4   CUENTA      12131 non-null  object\n",
      " 5   NOTA        8847 non-null   object\n",
      " 6   CANTIDAD_2  12131 non-null  object\n",
      "dtypes: object(7)\n",
      "memory usage: 663.5+ KB\n"
     ]
    }
   ],
   "source": [
    "data.info()"
   ]
  },
  {
   "cell_type": "markdown",
   "id": "2215e91b",
   "metadata": {},
   "source": [
    "Consultar últimos registros dataframe"
   ]
  },
  {
   "cell_type": "code",
   "execution_count": 106,
   "id": "1e88564b",
   "metadata": {},
   "outputs": [
    {
     "data": {
      "text/html": [
       "<div>\n",
       "<style scoped>\n",
       "    .dataframe tbody tr th:only-of-type {\n",
       "        vertical-align: middle;\n",
       "    }\n",
       "\n",
       "    .dataframe tbody tr th {\n",
       "        vertical-align: top;\n",
       "    }\n",
       "\n",
       "    .dataframe thead th {\n",
       "        text-align: right;\n",
       "    }\n",
       "</style>\n",
       "<table border=\"1\" class=\"dataframe\">\n",
       "  <thead>\n",
       "    <tr style=\"text-align: right;\">\n",
       "      <th></th>\n",
       "      <th>FECHA</th>\n",
       "      <th>TIPO</th>\n",
       "      <th>CANTIDAD</th>\n",
       "      <th>CATEGORÍA</th>\n",
       "      <th>CUENTA</th>\n",
       "      <th>NOTA</th>\n",
       "      <th>CANTIDAD_2</th>\n",
       "    </tr>\n",
       "  </thead>\n",
       "  <tbody>\n",
       "    <tr>\n",
       "      <th>0</th>\n",
       "      <td>31/07/18</td>\n",
       "      <td>Transferencia</td>\n",
       "      <td>1.095.997,00</td>\n",
       "      <td>NaN</td>\n",
       "      <td>Ingreso de efectivo</td>\n",
       "      <td>Pago doble Citibank</td>\n",
       "      <td>1.095.997,00</td>\n",
       "    </tr>\n",
       "    <tr>\n",
       "      <th>1</th>\n",
       "      <td>1/08/18</td>\n",
       "      <td>Gastos</td>\n",
       "      <td>-15.000,00</td>\n",
       "      <td>Uber</td>\n",
       "      <td>Efectivo</td>\n",
       "      <td>EBAG</td>\n",
       "      <td>15.000,00</td>\n",
       "    </tr>\n",
       "    <tr>\n",
       "      <th>2</th>\n",
       "      <td>1/08/18</td>\n",
       "      <td>Gastos</td>\n",
       "      <td>-10.000,00</td>\n",
       "      <td>Celular</td>\n",
       "      <td>Efectivo</td>\n",
       "      <td>Recarga Nando</td>\n",
       "      <td>10.000,00</td>\n",
       "    </tr>\n",
       "    <tr>\n",
       "      <th>3</th>\n",
       "      <td>1/08/18</td>\n",
       "      <td>Gastos</td>\n",
       "      <td>-211.000,00</td>\n",
       "      <td>Compra Saldo Conexión +</td>\n",
       "      <td>Efectivo</td>\n",
       "      <td>NaN</td>\n",
       "      <td>211.000,00</td>\n",
       "    </tr>\n",
       "    <tr>\n",
       "      <th>4</th>\n",
       "      <td>1/08/18</td>\n",
       "      <td>Ingresos</td>\n",
       "      <td>20.006,09</td>\n",
       "      <td>Venta Recargas</td>\n",
       "      <td>Cuenta bancaria</td>\n",
       "      <td>Recarga Juan Laneros</td>\n",
       "      <td>20.006,09</td>\n",
       "    </tr>\n",
       "  </tbody>\n",
       "</table>\n",
       "</div>"
      ],
      "text/plain": [
       "      FECHA           TIPO      CANTIDAD                CATEGORÍA  \\\n",
       "0  31/07/18  Transferencia  1.095.997,00                      NaN   \n",
       "1   1/08/18         Gastos    -15.000,00                     Uber   \n",
       "2   1/08/18         Gastos    -10.000,00                  Celular   \n",
       "3   1/08/18         Gastos   -211.000,00  Compra Saldo Conexión +   \n",
       "4   1/08/18       Ingresos     20.006,09           Venta Recargas   \n",
       "\n",
       "                CUENTA                  NOTA    CANTIDAD_2  \n",
       "0  Ingreso de efectivo   Pago doble Citibank  1.095.997,00  \n",
       "1             Efectivo                  EBAG     15.000,00  \n",
       "2             Efectivo         Recarga Nando     10.000,00  \n",
       "3             Efectivo                   NaN    211.000,00  \n",
       "4      Cuenta bancaria  Recarga Juan Laneros     20.006,09  "
      ]
     },
     "execution_count": 106,
     "metadata": {},
     "output_type": "execute_result"
    }
   ],
   "source": [
    "data.head()"
   ]
  },
  {
   "cell_type": "markdown",
   "id": "15638f49",
   "metadata": {},
   "source": [
    "Comprobar duplicados"
   ]
  },
  {
   "cell_type": "code",
   "execution_count": 107,
   "id": "fb4c0f09",
   "metadata": {},
   "outputs": [
    {
     "data": {
      "text/plain": [
       "FECHA         2327\n",
       "TIPO             3\n",
       "CANTIDAD      3104\n",
       "CATEGORÍA       84\n",
       "CUENTA          83\n",
       "NOTA          3737\n",
       "CANTIDAD_2    2781\n",
       "dtype: int64"
      ]
     },
     "execution_count": 107,
     "metadata": {},
     "output_type": "execute_result"
    }
   ],
   "source": [
    "data.nunique()"
   ]
  },
  {
   "cell_type": "markdown",
   "id": "77a837fe",
   "metadata": {},
   "source": [
    "Cálculo de valores faltantes"
   ]
  },
  {
   "cell_type": "code",
   "execution_count": 108,
   "id": "e910f893",
   "metadata": {},
   "outputs": [
    {
     "data": {
      "text/plain": [
       "FECHA            0\n",
       "TIPO             0\n",
       "CANTIDAD         0\n",
       "CATEGORÍA     1718\n",
       "CUENTA           0\n",
       "NOTA          3284\n",
       "CANTIDAD_2       0\n",
       "dtype: int64"
      ]
     },
     "execution_count": 108,
     "metadata": {},
     "output_type": "execute_result"
    }
   ],
   "source": [
    "data.isnull().sum()"
   ]
  },
  {
   "cell_type": "markdown",
   "id": "e019558b",
   "metadata": {},
   "source": [
    "Calcular el porcentaje de valores faltantes en cada columna"
   ]
  },
  {
   "cell_type": "code",
   "execution_count": 109,
   "id": "6fbe91ed",
   "metadata": {},
   "outputs": [
    {
     "data": {
      "text/plain": [
       "FECHA          0.000000\n",
       "TIPO           0.000000\n",
       "CANTIDAD       0.000000\n",
       "CATEGORÍA     14.162064\n",
       "CUENTA         0.000000\n",
       "NOTA          27.071140\n",
       "CANTIDAD_2     0.000000\n",
       "dtype: float64"
      ]
     },
     "execution_count": 109,
     "metadata": {},
     "output_type": "execute_result"
    }
   ],
   "source": [
    "(data.isnull().sum()/(len(data)))*100"
   ]
  },
  {
   "cell_type": "markdown",
   "id": "51557f63",
   "metadata": {},
   "source": [
    "Conocer los valores faltantes de la columna Categoria"
   ]
  },
  {
   "cell_type": "code",
   "execution_count": 110,
   "id": "f05dd7fc",
   "metadata": {},
   "outputs": [
    {
     "name": "stdout",
     "output_type": "stream",
     "text": [
      "0         True\n",
      "1        False\n",
      "2        False\n",
      "3        False\n",
      "4        False\n",
      "         ...  \n",
      "12126    False\n",
      "12127    False\n",
      "12128    False\n",
      "12129    False\n",
      "12130    False\n",
      "Name: CATEGORÍA, Length: 12131, dtype: bool\n"
     ]
    }
   ],
   "source": [
    "print(data.CATEGORÍA.isnull())"
   ]
  }
 ],
 "metadata": {
  "kernelspec": {
   "display_name": "Python 3",
   "language": "python",
   "name": "python3"
  },
  "language_info": {
   "codemirror_mode": {
    "name": "ipython",
    "version": 3
   },
   "file_extension": ".py",
   "mimetype": "text/x-python",
   "name": "python",
   "nbconvert_exporter": "python",
   "pygments_lexer": "ipython3",
   "version": "3.13.1"
  }
 },
 "nbformat": 4,
 "nbformat_minor": 5
}
